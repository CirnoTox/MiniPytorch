{
 "cells": [
  {
   "cell_type": "code",
   "execution_count": 1,
   "metadata": {},
   "outputs": [],
   "source": [
    "import sys\n",
    "sys.path.append(\"./python\")\n",
    "import mpt\n",
    "import numpy as np\n",
    "import time\n",
    "from tic_toc_timer import tic, toc\n"
   ]
  },
  {
   "cell_type": "code",
   "execution_count": 2,
   "metadata": {},
   "outputs": [
    {
     "name": "stdout",
     "output_type": "stream",
     "text": [
      "| Epoch | Train Loss | Train Err | Test Loss | Test Err |\n",
      "|     0 |    0.38625 |   0.10812 |   0.36690 |  0.09960 |\n",
      "|     1 |    0.34486 |   0.09748 |   0.32926 |  0.09180 |\n",
      "|     2 |    0.32663 |   0.09187 |   0.31376 |  0.08770 |\n",
      "|     3 |    0.31572 |   0.08867 |   0.30504 |  0.08510 |\n",
      "|     4 |    0.30822 |   0.08667 |   0.29940 |  0.08320 |\n",
      "|     5 |    0.30264 |   0.08508 |   0.29543 |  0.08250 |\n",
      "|     6 |    0.29825 |   0.08393 |   0.29247 |  0.08180 |\n",
      "|     7 |    0.29466 |   0.08305 |   0.29017 |  0.08120 |\n",
      "|     8 |    0.29166 |   0.08215 |   0.28832 |  0.08070 |\n",
      "|     9 |    0.28908 |   0.08137 |   0.28680 |  0.08080 |\n"
     ]
    }
   ],
   "source": [
    "from python import simple_ml\n",
    "import struct\n",
    "import numpy as np\n",
    "import gzip\n",
    "def parse_mnist(image_filename, label_filename):\n",
    "    def readLabels(filePath=label_filename):\n",
    "        with gzip.open(filePath, 'rb') as f:\n",
    "            return [struct.unpack('>II', f.read(8)), np.frombuffer(f.read(), dtype=np.uint8)]\n",
    "\n",
    "    def readImages(filePath=image_filename):\n",
    "        with gzip.open(filePath, 'rb') as f:\n",
    "            [magic, images, rows, cols] = struct.unpack('>IIII', f.read(16))\n",
    "            return np.resize(np.frombuffer(f.read(), dtype=np.uint8), (images, rows*cols))/np.float32(255)\n",
    "    return (readImages(), readLabels()[1])\n",
    "X_tr, y_tr = parse_mnist(\"data/train-images-idx3-ubyte.gz\",\n",
    "                             \"data/train-labels-idx1-ubyte.gz\")\n",
    "X_te, y_te = parse_mnist(\"data/t10k-images-idx3-ubyte.gz\",\n",
    "                            \"data/t10k-labels-idx1-ubyte.gz\")\n",
    "simple_ml.train_softmax(X_tr, y_tr, X_te, y_te, epochs=10, lr=0.1)"
   ]
  },
  {
   "cell_type": "code",
   "execution_count": 2,
   "metadata": {},
   "outputs": [],
   "source": [
    "# Load Data\n",
    "data_dir=\"./data/\"\n",
    "batch_size=100\n",
    "train_dataset = mpt.data.MNISTDataset(\n",
    "    data_dir+\"/train-images-idx3-ubyte.gz\",\n",
    "    data_dir+\"/train-labels-idx1-ubyte.gz\"\n",
    ")\n",
    "test_dataset = mpt.data.MNISTDataset(\n",
    "    data_dir+\"/t10k-images-idx3-ubyte.gz\",\n",
    "    data_dir+\"/t10k-labels-idx1-ubyte.gz\"\n",
    ")\n",
    "train_dataloader = mpt.data.DataLoader(\n",
    "    dataset=train_dataset,\n",
    "    batch_size=batch_size,\n",
    "    shuffle=True\n",
    ")\n",
    "test_dataloader = mpt.data.DataLoader(\n",
    "    dataset=test_dataset,\n",
    "    batch_size=batch_size,\n",
    "    shuffle=True\n",
    ")\n"
   ]
  },
  {
   "cell_type": "code",
   "execution_count": 3,
   "metadata": {},
   "outputs": [],
   "source": [
    "# Define network\n",
    "import mpt.nn as nn\n",
    "\n",
    "def simple_nn():\n",
    "    return nn.Sequential(\n",
    "        nn.Linear(784, 20),\n",
    "        nn.Linear(20, 10)\n",
    "    )\n",
    "def loss_err(h, y):\n",
    "    \"\"\" Helper function to compute both loss and error\"\"\"\n",
    "    lossModule = nn.SoftmaxLoss()\n",
    "    return (\n",
    "        lossModule.forward(h, y),\n",
    "        np.sum(h.numpy().argmax(axis=1) != y.numpy(), dtype=np.float32)\n",
    "    )"
   ]
  },
  {
   "cell_type": "code",
   "execution_count": 12,
   "metadata": {},
   "outputs": [],
   "source": [
    "#epoch\n",
    "def epoch(dataloader: mpt.data.DataLoader,\n",
    "          model: mpt.nn.Module,\n",
    "          opt: mpt.optim.Optimizer = None):\n",
    "    np.random.seed(4)\n",
    "\n",
    "    if opt is None:\n",
    "        model.eval()\n",
    "    else :\n",
    "        model.train()\n",
    "    loss = 0\n",
    "    err = 0\n",
    "    i = 0\n",
    "    num_sample = 0\n",
    "    for _, data in enumerate(dataloader):\n",
    "        imgs = data[0]\n",
    "        labels = data[1]\n",
    "        i += 1\n",
    "        forwardRes = model.forward(imgs)\n",
    "        iLoss, iError = loss_err(forwardRes, labels)\n",
    "        loss += iLoss.numpy()[0]\n",
    "        err += iError\n",
    "        num_sample += labels.shape[0]\n",
    "        if opt is not None:\n",
    "            iLoss.backward()\n",
    "            opt.step()\n",
    "\n",
    "    print(\"{:.2f}% |   {:.5f}\".format((err/num_sample)*100,loss/i))\n",
    "    return (err/num_sample, loss/i)\n",
    "    "
   ]
  },
  {
   "cell_type": "code",
   "execution_count": 13,
   "metadata": {},
   "outputs": [
    {
     "name": "stdout",
     "output_type": "stream",
     "text": [
      "Err | Loss\n",
      "12.44% |   0.44135\n",
      "8.92% |   0.31548\n",
      "8.45% |   0.29920\n",
      "8.17% |   0.29102\n",
      "8.00% |   0.28588\n",
      "7.91% |   0.28228\n",
      "7.82% |   0.27960\n",
      "7.74% |   0.27752\n",
      "7.69% |   0.27586\n",
      "7.65% |   0.27450\n",
      "7.94% |   0.27695\n",
      "\n",
      "0.07940 |   0.27695\n"
     ]
    }
   ],
   "source": [
    "# Train\n",
    "train_acc, train_loss = None, None\n",
    "model = simple_nn()\n",
    "opt = mpt.optim.SGD(model.parameters(), lr=0.1, weight_decay=0.001)\n",
    "print(\"Err | Loss\")\n",
    "for _ in range(10):\n",
    "    train_acc, train_loss = epoch(train_dataloader, model=model, opt=opt)\n",
    "test_acc, test_loss = epoch(test_dataloader, model=model)\n",
    "print()\n",
    "print(\"{:.5f} |   {:.5f}\".format(test_acc, test_loss))"
   ]
  },
  {
   "cell_type": "code",
   "execution_count": 61,
   "metadata": {},
   "outputs": [],
   "source": [
    "testImg=mpt.Tensor(test_dataset[0][0]).reshape((-1,1)).transpose()\n",
    "testLabel=mpt.Tensor(test_dataset[0][1])\n",
    "def loss_err(h, y):\n",
    "    lossModule = nn.SoftmaxLoss()\n",
    "    return (\n",
    "        lossModule.forward(h, y),\n",
    "        np.sum(h.numpy().argmax(axis=1) != y.numpy(), dtype=np.float32)\n",
    "    )"
   ]
  },
  {
   "cell_type": "code",
   "execution_count": 75,
   "metadata": {},
   "outputs": [
    {
     "name": "stdout",
     "output_type": "stream",
     "text": [
      "0.0\n"
     ]
    }
   ],
   "source": [
    "h=model.forward(testImg)\n",
    "y=testLabel\n",
    "print(np.sum(h.numpy().argmax(axis=1) != y.numpy(), dtype=np.float32))"
   ]
  },
  {
   "cell_type": "code",
   "execution_count": 80,
   "metadata": {},
   "outputs": [
    {
     "name": "stdout",
     "output_type": "stream",
     "text": [
      "[[ 0.38178068 -0.45340216  0.46996555  0.6675435  -0.31004506  0.46440935\n",
      "  -0.59473586  0.2853446  -1.3865604  -0.27761897]]\n",
      "[ True]\n",
      "1.0\n"
     ]
    }
   ],
   "source": [
    "h2=net.forward(testImg)\n",
    "y2=testLabel\n",
    "print(h2)\n",
    "print(h2.numpy().argmax(axis=1) != y2.numpy())\n",
    "print(np.sum(h2.numpy().argmax(axis=1) != y2.numpy(), dtype=np.float32))"
   ]
  },
  {
   "attachments": {},
   "cell_type": "markdown",
   "metadata": {},
   "source": [
    "# 展示例子 1 Matrix tiled Multiply"
   ]
  },
  {
   "cell_type": "code",
   "execution_count": 30,
   "metadata": {},
   "outputs": [],
   "source": [
    "import sys\n",
    "sys.path.append(\"./python\")\n",
    "import pandas as pd\n",
    "import numpy as np\n",
    "import mpt\n",
    "import time\n",
    "def tic():\n",
    "    global startTime_for_tictoc\n",
    "    startTime_for_tictoc = time.time()\n",
    "\n",
    "def toc():\n",
    "    if 'startTime_for_tictoc' in globals():\n",
    "        return time.time() - startTime_for_tictoc\n",
    "    else:\n",
    "        return None\n",
    "sizes=[i for i in range(8,12*8,8)]\n",
    "\n",
    "times = []\n",
    "times2 = []"
   ]
  },
  {
   "cell_type": "code",
   "execution_count": 32,
   "metadata": {},
   "outputs": [
    {
     "name": "stdout",
     "output_type": "stream",
     "text": [
      "       mpt.matmul   for loop\n",
      "count   11.000000  11.000000\n",
      "mean     0.029474   0.991953\n",
      "std      0.029106   1.072761\n",
      "min      0.001546   0.007889\n",
      "25%      0.005385   0.148626\n",
      "50%      0.016561   0.642151\n",
      "75%      0.050245   1.539648\n",
      "max      0.078114   3.206719\n"
     ]
    }
   ],
   "source": [
    "for sz in sizes:\n",
    "    a=mpt.Tensor(np.random.randn(sz,sz),device=mpt.cpu())\n",
    "    b=mpt.Tensor(np.random.randn(sz,sz),device=mpt.cpu())\n",
    "    tic()\n",
    "    for k in range(5):\n",
    "        res=mpt.ops.matmul(a,b)\n",
    "    costedTime=toc()\n",
    "    times.append(costedTime)\n",
    "\n",
    "    c=np.random.randn(sz,sz).astype('f')\n",
    "    d=np.random.randn(sz,sz).astype('f')\n",
    "    res2=np.ndarray((sz,sz))\n",
    "    tic()\n",
    "    for k in range(5):\n",
    "        for i in range(sz):\n",
    "            for j in range(sz):\n",
    "                thissum=0\n",
    "                for k in range(sz):\n",
    "                    thissum+=c[i,j]*d[j,k]\n",
    "                res2[i,k]=thissum\n",
    "    times2.append(toc())\n",
    "\n",
    "df = pd.DataFrame({'mpt.matmul': times, 'for loop': times2})\n",
    "print(df.describe())"
   ]
  },
  {
   "cell_type": "code",
   "execution_count": 34,
   "metadata": {},
   "outputs": [
    {
     "data": {
      "image/png": "[encoded data removed]",
      "text/plain": [
       "<Figure size 640x480 with 1 Axes>"
      ]
     },
     "metadata": {},
     "output_type": "display_data"
    }
   ],
   "source": [
    "import matplotlib.pyplot as plt\n",
    "# 计算时间记录到times和times2列表中\n",
    "\n",
    "total_times = np.cumsum(times)\n",
    "total_times2 = np.cumsum(times2)\n",
    "\n",
    "plt.plot(sizes,total_times, label='mpt.matmul')\n",
    "plt.plot(sizes,total_times2, label='for loop')\n",
    "plt.xlabel('matrix size (x,x)')\n",
    "plt.ylabel('Total Time (s)')\n",
    "plt.legend()\n",
    "plt.show()\n"
   ]
  },
  {
   "attachments": {},
   "cell_type": "markdown",
   "metadata": {},
   "source": [
    "# 展示例子2 自动求导"
   ]
  },
  {
   "cell_type": "code",
   "execution_count": 46,
   "metadata": {},
   "outputs": [],
   "source": [
    "a=mpt.Tensor(4)\n",
    "b=mpt.Tensor(2)\n",
    "c=a+b\n",
    "d=c*4\n",
    "e=d/2\n",
    "e.backward()"
   ]
  },
  {
   "cell_type": "code",
   "execution_count": 49,
   "metadata": {},
   "outputs": [
    {
     "data": {
      "text/plain": [
       "mpt.Tensor(2.0)"
      ]
     },
     "execution_count": 49,
     "metadata": {},
     "output_type": "execute_result"
    }
   ],
   "source": [
    "a.grad"
   ]
  },
  {
   "attachments": {},
   "cell_type": "markdown",
   "metadata": {},
   "source": [
    "# 展示例子3 模块化的神经网络"
   ]
  },
  {
   "cell_type": "code",
   "execution_count": 2,
   "metadata": {},
   "outputs": [
    {
     "data": {
      "text/plain": [
       "mpt.Tensor([[1.7892647]])"
      ]
     },
     "execution_count": 2,
     "metadata": {},
     "output_type": "execute_result"
    }
   ],
   "source": [
    "import sys\n",
    "sys.path.append(\"./python\")\n",
    "import mpt\n",
    "import mpt.nn as nn\n",
    "lossModule = nn.SoftmaxLoss()\n",
    "def simple_nn():\n",
    "    return nn.Sequential(\n",
    "        nn.Linear(2, 2),\n",
    "        nn.Linear(2, 1)\n",
    "    )\n",
    "\n",
    "model=simple_nn()\n",
    "model.forward(mpt.Tensor([[1,2]]))"
   ]
  },
  {
   "cell_type": "code",
   "execution_count": 5,
   "metadata": {},
   "outputs": [
    {
     "name": "stdout",
     "output_type": "stream",
     "text": [
      "[mpt.Tensor([[1.4103342]\n",
      " [0.9667679]]), mpt.Tensor([[-2.1842027]])]\n"
     ]
    }
   ],
   "source": [
    "print(model.modules[1].parameters())"
   ]
  }
 ],
 "metadata": {
  "kernelspec": {
   "display_name": "Python 3",
   "language": "python",
   "name": "python3"
  },
  "language_info": {
   "codemirror_mode": {
    "name": "ipython",
    "version": 3
   },
   "file_extension": ".py",
   "mimetype": "text/x-python",
   "name": "python",
   "nbconvert_exporter": "python",
   "pygments_lexer": "ipython3",
   "version": "3.10.6"
  },
  "orig_nbformat": 4,
  "vscode": {
   "interpreter": {
    "hash": "4e1d9a8909477db77738c33245c29c7265277ef753467dede8cf3f814cde494e"
   }
  }
 },
 "nbformat": 4,
 "nbformat_minor": 2
}
