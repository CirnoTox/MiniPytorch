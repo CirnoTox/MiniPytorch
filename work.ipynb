{
 "cells": [
  {
   "cell_type": "code",
   "execution_count": 3,
   "metadata": {},
   "outputs": [
    {
     "name": "stdout",
     "output_type": "stream",
     "text": [
      "Defaulting to user installation because normal site-packages is not writeable\n",
      "Requirement already satisfied: pybind11 in /home/arch/.local/lib/python3.10/site-packages (2.10.1)\n",
      "-- Found pybind11: /usr/include (found version \"2.10.2\")\n",
      "\u001b[0mCUDA_TOOLKIT_ROOT_DIR not found or specified\u001b[0m\n",
      "-- Could NOT find CUDA (missing: CUDA_TOOLKIT_ROOT_DIR CUDA_NVCC_EXECUTABLE CUDA_INCLUDE_DIRS CUDA_CUDART_LIBRARY) \n",
      "-- Configuring done\n",
      "-- Generating done\n",
      "-- Build files have been written to: /home/arch/Desktop/finalProject/MiniPytorch/build\n",
      "make[1]: Entering directory '/home/arch/Desktop/finalProject/MiniPytorch/build'\n",
      "make[2]: Entering directory '/home/arch/Desktop/finalProject/MiniPytorch/build'\n",
      "make[3]: Entering directory '/home/arch/Desktop/finalProject/MiniPytorch/build'\n",
      "\u001b[35m\u001b[1mConsolidate compiler generated dependencies of target ndarray_backend_cpu\u001b[0m\n",
      "make[3]: Leaving directory '/home/arch/Desktop/finalProject/MiniPytorch/build'\n",
      "[100%] Built target ndarray_backend_cpu\n",
      "make[2]: Leaving directory '/home/arch/Desktop/finalProject/MiniPytorch/build'\n",
      "make[1]: Leaving directory '/home/arch/Desktop/finalProject/MiniPytorch/build'\n"
     ]
    }
   ],
   "source": [
    "!pip3 install pybind11\n"
   ]
  },
  {
   "cell_type": "code",
   "execution_count": 1,
   "metadata": {},
   "outputs": [
    {
     "name": "stdout",
     "output_type": "stream",
     "text": [
      "-- Found pybind11: /usr/include (found version \"2.10.2\")\n",
      "\u001b[0mCUDA_TOOLKIT_ROOT_DIR not found or specified\u001b[0m\n",
      "-- Could NOT find CUDA (missing: CUDA_TOOLKIT_ROOT_DIR CUDA_NVCC_EXECUTABLE CUDA_INCLUDE_DIRS CUDA_CUDART_LIBRARY) \n",
      "-- Configuring done\n",
      "-- Generating done\n",
      "-- Build files have been written to: /home/arch/Desktop/finalProject/MiniPytorch/build\n",
      "make[1]: Entering directory '/home/arch/Desktop/finalProject/MiniPytorch/build'\n",
      "make[2]: Entering directory '/home/arch/Desktop/finalProject/MiniPytorch/build'\n",
      "make[3]: Entering directory '/home/arch/Desktop/finalProject/MiniPytorch/build'\n",
      "\u001b[35m\u001b[1mConsolidate compiler generated dependencies of target ndarray_backend_cpu\u001b[0m\n",
      "make[3]: Leaving directory '/home/arch/Desktop/finalProject/MiniPytorch/build'\n",
      "make[3]: Entering directory '/home/arch/Desktop/finalProject/MiniPytorch/build'\n",
      "[ 50%] \u001b[32mBuilding CXX object CMakeFiles/ndarray_backend_cpu.dir/src/ndarray_backend_cpu.cc.o\u001b[0m\n",
      "[100%] \u001b[32m\u001b[1mLinking CXX shared module /home/arch/Desktop/finalProject/MiniPytorch/python/mpt/backend_ndarray/ndarray_backend_cpu.cpython-310-x86_64-linux-gnu.so\u001b[0m\n",
      "make[3]: Leaving directory '/home/arch/Desktop/finalProject/MiniPytorch/build'\n",
      "[100%] Built target ndarray_backend_cpu\n",
      "make[2]: Leaving directory '/home/arch/Desktop/finalProject/MiniPytorch/build'\n",
      "make[1]: Leaving directory '/home/arch/Desktop/finalProject/MiniPytorch/build'\n"
     ]
    }
   ],
   "source": [
    "!make"
   ]
  }
 ],
 "metadata": {
  "kernelspec": {
   "display_name": "Python 3",
   "language": "python",
   "name": "python3"
  },
  "language_info": {
   "codemirror_mode": {
    "name": "ipython",
    "version": 3
   },
   "file_extension": ".py",
   "mimetype": "text/x-python",
   "name": "python",
   "nbconvert_exporter": "python",
   "pygments_lexer": "ipython3",
   "version": "3.10.6"
  },
  "orig_nbformat": 4,
  "vscode": {
   "interpreter": {
    "hash": "4e1d9a8909477db77738c33245c29c7265277ef753467dede8cf3f814cde494e"
   }
  }
 },
 "nbformat": 4,
 "nbformat_minor": 2
}
