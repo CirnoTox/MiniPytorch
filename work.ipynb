{
 "cells": [
  {
   "cell_type": "code",
   "execution_count": 1,
   "metadata": {},
   "outputs": [],
   "source": [
    "import sys\n",
    "sys.path.append(\"./python\")\n",
    "import mpt\n",
    "import numpy as np\n",
    "import time\n",
    "from tic_toc_timer import tic, toc\n",
    "\n"
   ]
  },
  {
   "cell_type": "code",
   "execution_count": 2,
   "metadata": {},
   "outputs": [
    {
     "name": "stdout",
     "output_type": "stream",
     "text": [
      "| Epoch | Train Loss | Train Err | Test Loss | Test Err |\n",
      "|     0 |    0.38625 |   0.10812 |   0.36690 |  0.09960 |\n",
      "|     1 |    0.34486 |   0.09748 |   0.32926 |  0.09180 |\n",
      "|     2 |    0.32663 |   0.09187 |   0.31376 |  0.08770 |\n",
      "|     3 |    0.31572 |   0.08867 |   0.30504 |  0.08510 |\n",
      "|     4 |    0.30822 |   0.08667 |   0.29940 |  0.08320 |\n",
      "|     5 |    0.30264 |   0.08508 |   0.29543 |  0.08250 |\n",
      "|     6 |    0.29825 |   0.08393 |   0.29247 |  0.08180 |\n",
      "|     7 |    0.29466 |   0.08305 |   0.29017 |  0.08120 |\n",
      "|     8 |    0.29166 |   0.08215 |   0.28832 |  0.08070 |\n",
      "|     9 |    0.28908 |   0.08137 |   0.28680 |  0.08080 |\n"
     ]
    }
   ],
   "source": [
    "from python import simple_ml\n",
    "import struct\n",
    "import numpy as np\n",
    "import gzip\n",
    "def parse_mnist(image_filename, label_filename):\n",
    "    def readLabels(filePath=label_filename):\n",
    "        with gzip.open(filePath, 'rb') as f:\n",
    "            return [struct.unpack('>II', f.read(8)), np.frombuffer(f.read(), dtype=np.uint8)]\n",
    "\n",
    "    def readImages(filePath=image_filename):\n",
    "        with gzip.open(filePath, 'rb') as f:\n",
    "            [magic, images, rows, cols] = struct.unpack('>IIII', f.read(16))\n",
    "            return np.resize(np.frombuffer(f.read(), dtype=np.uint8), (images, rows*cols))/np.float32(255)\n",
    "    return (readImages(), readLabels()[1])\n",
    "X_tr, y_tr = parse_mnist(\"data/train-images-idx3-ubyte.gz\",\n",
    "                             \"data/train-labels-idx1-ubyte.gz\")\n",
    "X_te, y_te = parse_mnist(\"data/t10k-images-idx3-ubyte.gz\",\n",
    "                            \"data/t10k-labels-idx1-ubyte.gz\")\n",
    "simple_ml.train_softmax(X_tr, y_tr, X_te, y_te, epochs=10, lr=0.1)"
   ]
  },
  {
   "cell_type": "code",
   "execution_count": 2,
   "metadata": {},
   "outputs": [],
   "source": [
    "# Load Data\n",
    "data_dir=\"./data/\"\n",
    "batch_size=100\n",
    "train_dataset = mpt.data.MNISTDataset(\n",
    "    data_dir+\"/train-images-idx3-ubyte.gz\",\n",
    "    data_dir+\"/train-labels-idx1-ubyte.gz\"\n",
    ")\n",
    "test_dataset = mpt.data.MNISTDataset(\n",
    "    data_dir+\"/t10k-images-idx3-ubyte.gz\",\n",
    "    data_dir+\"/t10k-labels-idx1-ubyte.gz\"\n",
    ")\n",
    "train_dataloader = mpt.data.DataLoader(\n",
    "    dataset=train_dataset,\n",
    "    batch_size=batch_size,\n",
    "    shuffle=True\n",
    ")\n",
    "test_dataloader = mpt.data.DataLoader(\n",
    "    dataset=test_dataset,\n",
    "    batch_size=batch_size,\n",
    "    shuffle=True\n",
    ")\n"
   ]
  },
  {
   "cell_type": "code",
   "execution_count": 1,
   "metadata": {},
   "outputs": [
    {
     "ename": "ModuleNotFoundError",
     "evalue": "No module named 'mpt'",
     "output_type": "error",
     "traceback": [
      "\u001b[0;31m---------------------------------------------------------------------------\u001b[0m",
      "\u001b[0;31mModuleNotFoundError\u001b[0m                       Traceback (most recent call last)",
      "Cell \u001b[0;32mIn[1], line 2\u001b[0m\n\u001b[1;32m      1\u001b[0m \u001b[39m# Define network\u001b[39;00m\n\u001b[0;32m----> 2\u001b[0m \u001b[39mimport\u001b[39;00m \u001b[39mmpt\u001b[39;00m\u001b[39m.\u001b[39;00m\u001b[39mnn\u001b[39;00m \u001b[39mas\u001b[39;00m \u001b[39mnn\u001b[39;00m\n\u001b[1;32m      4\u001b[0m \u001b[39mdef\u001b[39;00m \u001b[39msimple_nn\u001b[39m():\n\u001b[1;32m      5\u001b[0m     \u001b[39mreturn\u001b[39;00m nn\u001b[39m.\u001b[39mSequential(\n\u001b[1;32m      6\u001b[0m         nn\u001b[39m.\u001b[39mLinear(\u001b[39m784\u001b[39m, \u001b[39m20\u001b[39m),\n\u001b[1;32m      7\u001b[0m         nn\u001b[39m.\u001b[39mLinear(\u001b[39m20\u001b[39m, \u001b[39m10\u001b[39m)\n\u001b[1;32m      8\u001b[0m     )\n",
      "\u001b[0;31mModuleNotFoundError\u001b[0m: No module named 'mpt'"
     ]
    }
   ],
   "source": [
    "# Define network\n",
    "import mpt.nn as nn\n",
    "\n",
    "def simple_nn():\n",
    "    return nn.Sequential(\n",
    "        nn.Linear(784, 20),\n",
    "        nn.Linear(20, 10)\n",
    "    )\n",
    "def loss_err(h, y):\n",
    "    \"\"\" Helper function to compute both loss and error\"\"\"\n",
    "    lossModule = nn.SoftmaxLoss()\n",
    "    return (\n",
    "        lossModule.forward(h, y),\n",
    "        np.sum(h.numpy().argmax(axis=1) != y.numpy(), dtype=np.float32)\n",
    "    )"
   ]
  },
  {
   "cell_type": "code",
   "execution_count": 12,
   "metadata": {},
   "outputs": [],
   "source": [
    "#epoch\n",
    "def epoch(dataloader: mpt.data.DataLoader,\n",
    "          model: mpt.nn.Module,\n",
    "          opt: mpt.optim.Optimizer = None):\n",
    "    np.random.seed(4)\n",
    "\n",
    "    if opt is None:\n",
    "        model.eval()\n",
    "    else :\n",
    "        model.train()\n",
    "    loss = 0\n",
    "    err = 0\n",
    "    i = 0\n",
    "    num_sample = 0\n",
    "    for _, data in enumerate(dataloader):\n",
    "        imgs = data[0]\n",
    "        labels = data[1]\n",
    "        i += 1\n",
    "        forwardRes = model.forward(imgs)\n",
    "        iLoss, iError = loss_err(forwardRes, labels)\n",
    "        loss += iLoss.numpy()[0]\n",
    "        err += iError\n",
    "        num_sample += labels.shape[0]\n",
    "        if opt is not None:\n",
    "            iLoss.backward()\n",
    "            opt.step()\n",
    "\n",
    "    print(\"{:.2f}% |   {:.5f}\".format((err/num_sample)*100,loss/i))\n",
    "    return (err/num_sample, loss/i)\n",
    "    "
   ]
  },
  {
   "cell_type": "code",
   "execution_count": null,
   "metadata": {},
   "outputs": [],
   "source": [
    "# Train\n",
    "train_acc, train_loss = None, None\n",
    "model = simple_nn()\n",
    "opt = mpt.optim.SGD(model.parameters(), lr=0.1, weight_decay=0.001)\n",
    "print(\"Err | Loss\")\n",
    "for _ in range(10):\n",
    "    train_acc, train_loss = epoch(train_dataloader, model=model, opt=opt)\n",
    "test_acc, test_loss = epoch(test_dataloader, model=model)\n",
    "print()\n",
    "print(\"{:.5f} |   {:.5f}\".format(test_acc, test_loss))"
   ]
  },
  {
   "cell_type": "code",
   "execution_count": 61,
   "metadata": {},
   "outputs": [],
   "source": [
    "testImg=mpt.Tensor(test_dataset[0][0]).reshape((-1,1)).transpose()\n",
    "testLabel=mpt.Tensor(test_dataset[0][1])\n",
    "def loss_err(h, y):\n",
    "    lossModule = nn.SoftmaxLoss()\n",
    "    return (\n",
    "        lossModule.forward(h, y),\n",
    "        np.sum(h.numpy().argmax(axis=1) != y.numpy(), dtype=np.float32)\n",
    "    )"
   ]
  },
  {
   "cell_type": "code",
   "execution_count": 75,
   "metadata": {},
   "outputs": [
    {
     "name": "stdout",
     "output_type": "stream",
     "text": [
      "0.0\n"
     ]
    }
   ],
   "source": [
    "h=model.forward(testImg)\n",
    "y=testLabel\n",
    "print(np.sum(h.numpy().argmax(axis=1) != y.numpy(), dtype=np.float32))"
   ]
  },
  {
   "cell_type": "code",
   "execution_count": 80,
   "metadata": {},
   "outputs": [
    {
     "name": "stdout",
     "output_type": "stream",
     "text": [
      "[[ 0.38178068 -0.45340216  0.46996555  0.6675435  -0.31004506  0.46440935\n",
      "  -0.59473586  0.2853446  -1.3865604  -0.27761897]]\n",
      "[ True]\n",
      "1.0\n"
     ]
    }
   ],
   "source": [
    "h2=net.forward(testImg)\n",
    "y2=testLabel\n",
    "print(h2)\n",
    "print(h2.numpy().argmax(axis=1) != y2.numpy())\n",
    "print(np.sum(h2.numpy().argmax(axis=1) != y2.numpy(), dtype=np.float32))"
   ]
  },
  {
   "attachments": {},
   "cell_type": "markdown",
   "metadata": {},
   "source": [
    "# 展示例子 1 Matrix tiled Multiply"
   ]
  },
  {
   "cell_type": "code",
   "execution_count": 2,
   "metadata": {},
   "outputs": [],
   "source": [
    "import sys\n",
    "sys.path.append(\"./python\")\n",
    "import pandas as pd\n",
    "import numpy as np\n",
    "import mpt\n",
    "import time\n",
    "def tic():\n",
    "    global startTime_for_tictoc\n",
    "    startTime_for_tictoc = time.time()\n",
    "\n",
    "def toc():\n",
    "    if 'startTime_for_tictoc' in globals():\n",
    "        return time.time() - startTime_for_tictoc\n",
    "    else:\n",
    "        return None\n",
    "sizes=[i for i in range(8,12*8,8)]\n",
    "\n",
    "times = []\n",
    "times2 = []"
   ]
  },
  {
   "cell_type": "code",
   "execution_count": 3,
   "metadata": {},
   "outputs": [
    {
     "name": "stdout",
     "output_type": "stream",
     "text": [
      "       mpt.matmul   for loop\n",
      "count   11.000000  11.000000\n",
      "mean     0.015177   0.727764\n",
      "std      0.015208   0.757780\n",
      "min      0.002035   0.007193\n",
      "25%      0.003407   0.094271\n",
      "50%      0.010322   0.616992\n",
      "75%      0.024225   1.099668\n",
      "max      0.048702   2.240249\n"
     ]
    }
   ],
   "source": [
    "for sz in sizes:\n",
    "    a=mpt.Tensor(np.random.randn(sz,sz),device=mpt.cpu())\n",
    "    b=mpt.Tensor(np.random.randn(sz,sz),device=mpt.cpu())\n",
    "    tic()\n",
    "    for k in range(5):\n",
    "        res=mpt.ops.matmul(a,b)\n",
    "    costedTime=toc()\n",
    "    times.append(costedTime)\n",
    "\n",
    "    c=np.random.randn(sz,sz).astype('f')\n",
    "    d=np.random.randn(sz,sz).astype('f')\n",
    "    res2=np.ndarray((sz,sz))\n",
    "    tic()\n",
    "    for k in range(5):\n",
    "        for i in range(sz):\n",
    "            for j in range(sz):\n",
    "                thissum=0\n",
    "                for k in range(sz):\n",
    "                    thissum+=c[i,j]*d[j,k]\n",
    "                res2[i,k]=thissum\n",
    "    times2.append(toc())\n",
    "\n",
    "df = pd.DataFrame({'mpt.matmul': times, 'for loop': times2})\n",
    "print(df.describe())"
   ]
  },
  {
   "cell_type": "code",
   "execution_count": 4,
   "metadata": {},
   "outputs": [
    {
     "data": {
      "image/png": "[encoded data removed]",
      "text/plain": [
       "<Figure size 640x480 with 1 Axes>"
      ]
     },
     "metadata": {},
     "output_type": "display_data"
    }
   ],
   "source": [
    "import matplotlib.pyplot as plt\n",
    "# 计算时间记录到times和times2列表中\n",
    "\n",
    "total_times = np.cumsum(times)\n",
    "total_times2 = np.cumsum(times2)\n",
    "\n",
    "plt.plot(sizes,total_times, label='mpt.matmul')\n",
    "plt.plot(sizes,total_times2, label='for loop')\n",
    "plt.xlabel('matrix size (x,x)')\n",
    "plt.ylabel('Total Time (s)')\n",
    "plt.legend()\n",
    "plt.show()\n",
    "\n"
   ]
  },
  {
   "attachments": {},
   "cell_type": "markdown",
   "metadata": {},
   "source": [
    "# 展示例子2 自动求导"
   ]
  },
  {
   "cell_type": "code",
   "execution_count": 7,
   "metadata": {},
   "outputs": [
    {
     "data": {
      "text/plain": [
       "mpt.Tensor(2.0)"
      ]
     },
     "execution_count": 7,
     "metadata": {},
     "output_type": "execute_result"
    }
   ],
   "source": [
    "import sys\n",
    "sys.path.append(\"./python\")\n",
    "import mpt\n",
    "a=mpt.Tensor(4)\n",
    "b=mpt.Tensor(3)\n",
    "c=a+b\n",
    "# c.backward()\n",
    "d=c*4\n",
    "e=d/2\n",
    "e.backward()\n",
    "a.grad"
   ]
  },
  {
   "attachments": {},
   "cell_type": "markdown",
   "metadata": {},
   "source": [
    "# 展示例子3 模块化的神经网络"
   ]
  },
  {
   "cell_type": "code",
   "execution_count": 2,
   "metadata": {},
   "outputs": [
    {
     "data": {
      "text/plain": [
       "mpt.Tensor([[1.7892647]])"
      ]
     },
     "execution_count": 2,
     "metadata": {},
     "output_type": "execute_result"
    }
   ],
   "source": [
    "import sys\n",
    "sys.path.append(\"./python\")\n",
    "import mpt\n",
    "import mpt.nn as nn\n",
    "lossModule = nn.SoftmaxLoss()\n",
    "def simple_nn():\n",
    "    return nn.Sequential(\n",
    "        nn.Linear(2, 2),\n",
    "        nn.Linear(2, 1)\n",
    "    )\n",
    "\n",
    "model=simple_nn()\n",
    "model.forward(mpt.Tensor([[1,2]]))"
   ]
  },
  {
   "cell_type": "code",
   "execution_count": 5,
   "metadata": {},
   "outputs": [
    {
     "name": "stdout",
     "output_type": "stream",
     "text": [
      "[mpt.Tensor([[1.4103342]\n",
      " [0.9667679]]), mpt.Tensor([[-2.1842027]])]\n"
     ]
    }
   ],
   "source": [
    "print(model.modules[1].parameters())"
   ]
  },
  {
   "attachments": {},
   "cell_type": "markdown",
   "metadata": {},
   "source": [
    "# 实验成果展示 残差网络"
   ]
  },
  {
   "cell_type": "code",
   "execution_count": 1,
   "metadata": {},
   "outputs": [],
   "source": [
    "import os\n",
    "import time\n",
    "import sys\n",
    "sys.path.append(\"./python\")\n",
    "import numpy as np\n",
    "import mpt.nn as nn\n",
    "import mpt\n",
    "import sys\n",
    "sys.path.append('../python')\n",
    "\n",
    "np.random.seed(0)\n",
    "\n",
    "\n",
    "def ResidualBlock(dim, hidden_dim, norm=nn.BatchNorm1d, drop_prob=0.1):\n",
    "    return nn.Sequential(\n",
    "        nn.Residual(\n",
    "            nn.Sequential(\n",
    "                nn.Linear(dim, hidden_dim),\n",
    "                norm(hidden_dim),\n",
    "                nn.ReLU(),\n",
    "                nn.Dropout(drop_prob),\n",
    "                nn.Linear(hidden_dim, dim),\n",
    "                norm(dim))\n",
    "        ),\n",
    "        nn.ReLU()\n",
    "    )\n",
    "\n",
    "def MLPResNet(dim, hidden_dim=100, num_blocks=3, num_classes=10, norm=nn.BatchNorm1d, drop_prob=0.1):\n",
    "    ls = [nn.Linear(dim, hidden_dim), nn.ReLU()]\n",
    "    for _ in range(num_blocks):\n",
    "        ls.append(\n",
    "            ResidualBlock(hidden_dim, hidden_dim//2,\n",
    "                          norm, drop_prob)\n",
    "        )\n",
    "    ls.append(nn.Linear(hidden_dim, num_classes)) # 分类层\n",
    "    return nn.Sequential(*ls)\n",
    "\n",
    "\n",
    "def epoch(dataloader: mpt.data.DataLoader,\n",
    "          model: mpt.nn.Module,\n",
    "          opt: mpt.optim.Optimizer = None):\n",
    "    np.random.seed(4)\n",
    "\n",
    "    def loss_err(h, y):\n",
    "        \"\"\" Helper function to compute both loss and error\"\"\"\n",
    "        lossModule = nn.SoftmaxLoss()\n",
    "        return (\n",
    "            lossModule.forward(h, y),\n",
    "            np.sum(h.numpy().argmax(axis=1) != y.numpy(), dtype=np.float32)\n",
    "        )\n",
    "\n",
    "    if opt is None:\n",
    "        model.eval()\n",
    "        loss = 0\n",
    "        err = 0\n",
    "        i = 0\n",
    "        num_sample = 0\n",
    "        for _, data in enumerate(dataloader):\n",
    "            imgs = data[0]\n",
    "            labels = data[1]\n",
    "            i += 1\n",
    "            forwardRes = model.forward(imgs)\n",
    "            iLoss, iError = loss_err(forwardRes, labels)\n",
    "            loss += iLoss.numpy()[0]\n",
    "            err += iError\n",
    "            num_sample += labels.shape[0]\n",
    "        return (err/num_sample, loss/i)\n",
    "    else:\n",
    "        model.train()\n",
    "        loss = 0\n",
    "        err = 0\n",
    "        i = 0\n",
    "        num_sample = 0\n",
    "        for _, data in enumerate(dataloader):\n",
    "            imgs = data[0]\n",
    "            labels = data[1]\n",
    "            i += 1\n",
    "            forwardRes = model.forward(imgs)\n",
    "            iLoss, iError = loss_err(forwardRes, labels)\n",
    "            loss += iLoss.numpy()[0]\n",
    "            err += iError\n",
    "            num_sample += labels.shape[0]\n",
    "            iLoss.backward()\n",
    "            opt.step()\n",
    "        return (err/num_sample, loss/i)\n",
    "\n",
    "\n",
    "\n",
    "def train_mnist(batch_size=100, epochs=10, optimizer=mpt.optim.Adam,\n",
    "                lr=0.001, weight_decay=0.001, hidden_dim=100, data_dir=\"data\"):\n",
    "    np.random.seed(4)\n",
    "    train_dataset = mpt.data.MNISTDataset(\n",
    "        data_dir+\"/train-images-idx3-ubyte.gz\",\n",
    "        data_dir+\"/train-labels-idx1-ubyte.gz\"\n",
    "    )\n",
    "    test_dataset = mpt.data.MNISTDataset(\n",
    "        data_dir+\"/t10k-images-idx3-ubyte.gz\",\n",
    "        data_dir+\"/t10k-labels-idx1-ubyte.gz\"\n",
    "    )\n",
    "    train_dataloader = mpt.data.DataLoader(\n",
    "        dataset=train_dataset,\n",
    "        batch_size=batch_size,\n",
    "        shuffle=True\n",
    "    )\n",
    "    test_dataloader = mpt.data.DataLoader(\n",
    "        dataset=test_dataset,\n",
    "        batch_size=batch_size,\n",
    "        shuffle=True\n",
    "    )\n",
    "    \n",
    "    train_acc, train_loss = None, None\n",
    "    model = MLPResNet(784, hidden_dim=hidden_dim)\n",
    "    opt = optimizer(model.parameters(), lr=lr, weight_decay=weight_decay)\n",
    "    for _ in range(epochs):\n",
    "        train_acc, train_loss = epoch(train_dataloader, model=model, opt=opt)\n",
    "        print(train_acc,train_loss)\n",
    "    test_acc, test_loss = epoch(test_dataloader, model=model)\n",
    "\n",
    "    return (train_acc, train_loss, test_acc, test_loss)\n"
   ]
  },
  {
   "cell_type": "code",
   "execution_count": 2,
   "metadata": {},
   "outputs": [
    {
     "name": "stdout",
     "output_type": "stream",
     "text": [
      "0.12108333333333333 0.3974546681592862\n",
      "0.047483333333333336 0.15649551898241043\n",
      "0.03261666666666667 0.10916779043463369\n",
      "0.02555 0.0849009525232638\n",
      "0.020533333333333334 0.07020557472327103\n",
      "0.018783333333333332 0.06289037507415439\n",
      "0.018133333333333335 0.05864228433153282\n",
      "0.015416666666666667 0.052265735208056864\n",
      "0.015083333333333334 0.05042913194202508\n",
      "0.014533333333333334 0.04776712784077972\n"
     ]
    },
    {
     "data": {
      "text/plain": [
       "(0.014533333333333334, 0.04776712784077972, 0.0287, 0.10170565110631287)"
      ]
     },
     "execution_count": 2,
     "metadata": {},
     "output_type": "execute_result"
    }
   ],
   "source": [
    "train_mnist(data_dir=\"./data\")\n"
   ]
  },
  {
   "cell_type": "code",
   "execution_count": 1,
   "metadata": {},
   "outputs": [],
   "source": []
  },
  {
   "attachments": {},
   "cell_type": "markdown",
   "metadata": {},
   "source": [
    "# 组会展示 4.17"
   ]
  },
  {
   "attachments": {},
   "cell_type": "markdown",
   "metadata": {},
   "source": [
    "### 两层的线性网络"
   ]
  },
  {
   "cell_type": "code",
   "execution_count": 2,
   "metadata": {},
   "outputs": [],
   "source": [
    "import sys\n",
    "sys.path.append(\"./python\")\n",
    "import mpt\n",
    "import numpy as np\n",
    "import time\n",
    "from tic_toc_timer import tic, toc\n",
    "\n"
   ]
  },
  {
   "cell_type": "code",
   "execution_count": 3,
   "metadata": {},
   "outputs": [],
   "source": [
    "# Load Data\n",
    "data_dir=\"./data/\"\n",
    "batch_size=100\n",
    "train_dataset = mpt.data.MNISTDataset(\n",
    "    data_dir+\"/train-images-idx3-ubyte.gz\",\n",
    "    data_dir+\"/train-labels-idx1-ubyte.gz\"\n",
    ")\n",
    "test_dataset = mpt.data.MNISTDataset(\n",
    "    data_dir+\"/t10k-images-idx3-ubyte.gz\",\n",
    "    data_dir+\"/t10k-labels-idx1-ubyte.gz\"\n",
    ")\n",
    "train_dataloader = mpt.data.DataLoader(\n",
    "    dataset=train_dataset,\n",
    "    batch_size=batch_size,\n",
    "    shuffle=True\n",
    ")\n",
    "test_dataloader = mpt.data.DataLoader(\n",
    "    dataset=test_dataset,\n",
    "    batch_size=batch_size,\n",
    "    shuffle=True\n",
    ")\n"
   ]
  },
  {
   "cell_type": "code",
   "execution_count": 4,
   "metadata": {},
   "outputs": [],
   "source": [
    "# Define network\n",
    "import mpt.nn as nn\n",
    "\n",
    "def simple_nn():\n",
    "    return nn.Sequential(\n",
    "        nn.Linear(784, 20),\n",
    "        nn.Linear(20, 10)\n",
    "    )\n",
    "def loss_err(h, y):\n",
    "    \"\"\" Helper function to compute both loss and error\"\"\"\n",
    "    lossModule = nn.SoftmaxLoss()\n",
    "    return (\n",
    "        lossModule.forward(h, y),\n",
    "        np.sum(h.numpy().argmax(axis=1) != y.numpy(), dtype=np.float32)\n",
    "    )"
   ]
  },
  {
   "cell_type": "code",
   "execution_count": 5,
   "metadata": {},
   "outputs": [],
   "source": [
    "#epoch\n",
    "def epoch(dataloader: mpt.data.DataLoader,\n",
    "          model: mpt.nn.Module,\n",
    "          opt: mpt.optim.Optimizer = None):\n",
    "    np.random.seed(4)\n",
    "\n",
    "    if opt is None:\n",
    "        model.eval()\n",
    "    else :\n",
    "        model.train()\n",
    "    loss = 0\n",
    "    err = 0\n",
    "    i = 0\n",
    "    num_sample = 0\n",
    "    for _, data in enumerate(dataloader):\n",
    "        imgs = data[0]\n",
    "        labels = data[1]\n",
    "        i += 1\n",
    "        forwardRes = model.forward(imgs)\n",
    "        iLoss, iError = loss_err(forwardRes, labels)\n",
    "        loss += iLoss.numpy()[0]\n",
    "        err += iError\n",
    "        num_sample += labels.shape[0]\n",
    "        if opt is not None:\n",
    "            iLoss.backward()\n",
    "            opt.step()\n",
    "\n",
    "    print(\"{:.2f}% |   {:.5f}\".format((err/num_sample)*100,loss/i))\n",
    "    return (err/num_sample, loss/i)\n",
    "    "
   ]
  },
  {
   "cell_type": "code",
   "execution_count": 6,
   "metadata": {},
   "outputs": [
    {
     "name": "stdout",
     "output_type": "stream",
     "text": [
      "Err | Loss\n",
      "12.53% |   0.44440\n",
      "8.92% |   0.31584\n",
      "8.45% |   0.29993\n",
      "8.19% |   0.29176\n",
      "8.00% |   0.28656\n",
      "7.94% |   0.28289\n",
      "7.87% |   0.28015\n",
      "7.79% |   0.27802\n",
      "7.73% |   0.27631\n",
      "7.66% |   0.27491\n",
      "7.90% |   0.27684\n",
      "\n",
      "0.07900 |   0.27684\n"
     ]
    }
   ],
   "source": [
    "# Train\n",
    "train_acc, train_loss = None, None\n",
    "model = simple_nn()\n",
    "opt = mpt.optim.SGD(model.parameters(), lr=0.1, weight_decay=0.001)\n",
    "print(\"Err | Loss\")\n",
    "for _ in range(10):\n",
    "    train_acc, train_loss = epoch(train_dataloader, model=model, opt=opt)\n",
    "test_acc, test_loss = epoch(test_dataloader, model=model)\n",
    "print()\n",
    "print(\"{:.5f} |   {:.5f}\".format(test_acc, test_loss))"
   ]
  },
  {
   "cell_type": "code",
   "execution_count": null,
   "metadata": {},
   "outputs": [],
   "source": [
    "testImg=mpt.Tensor(test_dataset[0][0]).reshape((-1,1)).transpose()\n",
    "testLabel=mpt.Tensor(test_dataset[0][1])\n",
    "def loss_err(h, y):\n",
    "    lossModule = nn.SoftmaxLoss()\n",
    "    return (\n",
    "        lossModule.forward(h, y),\n",
    "        np.sum(h.numpy().argmax(axis=1) != y.numpy(), dtype=np.float32)\n",
    "    )"
   ]
  },
  {
   "cell_type": "code",
   "execution_count": null,
   "metadata": {},
   "outputs": [
    {
     "name": "stdout",
     "output_type": "stream",
     "text": [
      "0.0\n"
     ]
    }
   ],
   "source": [
    "h=model.forward(testImg)\n",
    "y=testLabel\n",
    "print(np.sum(h.numpy().argmax(axis=1) != y.numpy(), dtype=np.float32))"
   ]
  },
  {
   "cell_type": "code",
   "execution_count": null,
   "metadata": {},
   "outputs": [
    {
     "name": "stdout",
     "output_type": "stream",
     "text": [
      "[[ 0.38178068 -0.45340216  0.46996555  0.6675435  -0.31004506  0.46440935\n",
      "  -0.59473586  0.2853446  -1.3865604  -0.27761897]]\n",
      "[ True]\n",
      "1.0\n"
     ]
    }
   ],
   "source": [
    "h2=net.forward(testImg)\n",
    "y2=testLabel\n",
    "print(h2)\n",
    "print(h2.numpy().argmax(axis=1) != y2.numpy())\n",
    "print(np.sum(h2.numpy().argmax(axis=1) != y2.numpy(), dtype=np.float32))"
   ]
  },
  {
   "cell_type": "code",
   "execution_count": null,
   "metadata": {},
   "outputs": [],
   "source": []
  },
  {
   "cell_type": "code",
   "execution_count": null,
   "metadata": {},
   "outputs": [],
   "source": []
  },
  {
   "attachments": {},
   "cell_type": "markdown",
   "metadata": {},
   "source": [
    "## 函数定义"
   ]
  },
  {
   "cell_type": "code",
   "execution_count": 20,
   "metadata": {},
   "outputs": [],
   "source": [
    "# Load Data\n",
    "from tic_toc_timer import tic, toc\n",
    "import time\n",
    "import numpy as np\n",
    "import mpt.nn as nn\n",
    "import mpt\n",
    "import sys\n",
    "sys.path.append(\"./python\")\n",
    "\n",
    "\n",
    "def loadData():\n",
    "    data_dir = \"./data/\"\n",
    "    batch_size = 100\n",
    "    train_dataset = mpt.data.MNISTDataset(\n",
    "        data_dir+\"/train-images-idx3-ubyte.gz\",\n",
    "        data_dir+\"/train-labels-idx1-ubyte.gz\"\n",
    "    )\n",
    "    test_dataset = mpt.data.MNISTDataset(\n",
    "        data_dir+\"/t10k-images-idx3-ubyte.gz\",\n",
    "        data_dir+\"/t10k-labels-idx1-ubyte.gz\"\n",
    "    )\n",
    "    train_dataloader = mpt.data.DataLoader(\n",
    "        dataset=train_dataset,\n",
    "        batch_size=batch_size,\n",
    "        shuffle=True\n",
    "    )\n",
    "    test_dataloader = mpt.data.DataLoader(\n",
    "        dataset=test_dataset,\n",
    "        batch_size=batch_size,\n",
    "        shuffle=True\n",
    "    )\n",
    "    return train_dataset, train_dataloader, test_dataset, test_dataloader\n",
    "\n",
    "\n",
    "def loss_err(h, y):\n",
    "    lossModule = nn.SoftmaxLoss()\n",
    "    return (\n",
    "        lossModule.forward(h, y),\n",
    "        np.sum(h.numpy().argmax(axis=1) != y.numpy(), dtype=np.float32)\n",
    "    )\n",
    "\n",
    "# epoch\n",
    "\n",
    "\n",
    "def epoch(dataloader: mpt.data.DataLoader,\n",
    "          model: mpt.nn.Module,\n",
    "          opt: mpt.optim.Optimizer = None):\n",
    "    np.random.seed(4)\n",
    "\n",
    "    if opt is None:\n",
    "        model.eval()\n",
    "    else:\n",
    "        model.train()\n",
    "    loss = 0\n",
    "    err = 0\n",
    "    i = 0\n",
    "    num_sample = 0\n",
    "    for _, data in enumerate(dataloader):\n",
    "        imgs = data[0]\n",
    "        labels = data[1]\n",
    "        i += 1\n",
    "        forwardRes = model.forward(imgs)\n",
    "        iLoss, iError = loss_err(forwardRes, labels)\n",
    "        loss += iLoss.numpy()[0]\n",
    "        err += iError\n",
    "        num_sample += labels.shape[0]\n",
    "        if opt is not None:\n",
    "            iLoss.backward()\n",
    "            opt.step()\n",
    "\n",
    "    print(\"{:.2f}% |   {:.5f}\".format((err/num_sample)*100, loss/i))\n",
    "    return (err/num_sample, loss/i)\n",
    "\n",
    "\n",
    "# model\n",
    "# Simple NN\n",
    "def simple_nn():\n",
    "    return nn.Sequential(\n",
    "        nn.Linear(784, 20),\n",
    "        nn.Linear(20, 10)\n",
    "    ),\"simple_nn\"\n",
    "\n",
    "# ResNet\n",
    "\n",
    "\n",
    "def ResidualBlock(dim, hidden_dim, norm=nn.BatchNorm1d, drop_prob=0.1):\n",
    "    return nn.Sequential(\n",
    "        nn.Residual(\n",
    "            nn.Sequential(\n",
    "                nn.Linear(dim, hidden_dim),\n",
    "                norm(hidden_dim),\n",
    "                nn.ReLU(),\n",
    "                nn.Dropout(drop_prob),\n",
    "                nn.Linear(hidden_dim, dim),\n",
    "                norm(dim))\n",
    "        ),\n",
    "        nn.ReLU()\n",
    "    )\n",
    "\n",
    "\n",
    "def MLPResNet(dim, hidden_dim=100, num_blocks=3, num_classes=10, norm=nn.BatchNorm1d, drop_prob=0.1):\n",
    "    ls = [nn.Linear(dim, hidden_dim), nn.ReLU()]\n",
    "    for _ in range(num_blocks):\n",
    "        ls.append(\n",
    "            ResidualBlock(hidden_dim, hidden_dim//2,\n",
    "                          norm, drop_prob)\n",
    "        )\n",
    "    ls.append(nn.Linear(hidden_dim, num_classes))  # 分类层\n",
    "    return nn.Sequential(*ls),\"MLPResNet\"\n"
   ]
  },
  {
   "attachments": {},
   "cell_type": "markdown",
   "metadata": {},
   "source": [
    "## 训练对比"
   ]
  },
  {
   "cell_type": "code",
   "execution_count": 28,
   "metadata": {},
   "outputs": [
    {
     "name": "stdout",
     "output_type": "stream",
     "text": [
      "simple_nn <class 'mpt.optim.SGD'>\n",
      "Err | Loss\n",
      "12.98% |   0.45212\n",
      "9.01% |   0.31810\n",
      "8.47% |   0.30048\n",
      "8.21% |   0.29172\n",
      "8.07% |   0.28632\n",
      "7.96% |   0.28259\n",
      "7.88% |   0.27984\n",
      "7.81% |   0.27772\n",
      "7.72% |   0.27603\n",
      "7.67% |   0.27465\n",
      "7.85% |   0.27633\n",
      "0.07850 |   0.27633 TEST\n",
      "time:  0:01:12.062722  seconds\n",
      "simple_nn <class 'mpt.optim.Adam'>\n",
      "Err | Loss\n",
      "16.08% |   0.94952\n",
      "19.38% |   0.90033\n",
      "18.37% |   0.97569\n",
      "18.77% |   0.83938\n",
      "20.31% |   1.36762\n",
      "16.59% |   0.76471\n",
      "19.85% |   1.21961\n",
      "17.31% |   1.24014\n",
      "17.76% |   0.78394\n",
      "18.03% |   1.14910\n",
      "16.88% |   0.63192\n",
      "0.16880 |   0.63192 TEST\n",
      "time:  0:01:59.496490  seconds\n",
      "MLPResNet <class 'mpt.optim.SGD'>\n",
      "Err | Loss\n",
      "10.24% |   0.33304\n",
      "4.81% |   0.15718\n",
      "3.42% |   0.11381\n",
      "2.58% |   0.08759\n",
      "1.99% |   0.06944\n",
      "1.56% |   0.05647\n",
      "1.27% |   0.04624\n",
      "1.03% |   0.03872\n",
      "0.87% |   0.03335\n",
      "0.75% |   0.03009\n",
      "2.60% |   0.09090\n",
      "0.02600 |   0.09090 TEST\n",
      "time:  0:11:15.112961  seconds\n",
      "MLPResNet <class 'mpt.optim.Adam'>\n",
      "Err | Loss\n",
      "19.14% |   0.80925\n",
      "21.85% |   0.80273\n",
      "19.65% |   0.76700\n",
      "30.31% |   1.14039\n",
      "24.90% |   0.85596\n",
      "23.91% |   0.85909\n",
      "22.39% |   0.81575\n",
      "27.82% |   0.93165\n",
      "24.14% |   0.76388\n",
      "24.72% |   0.79305\n",
      "21.13% |   0.69540\n",
      "0.21130 |   0.69540 TEST\n",
      "time:  0:11:33.241430  seconds\n"
     ]
    }
   ],
   "source": [
    "train_acc, train_loss = None, None\n",
    "\n",
    "modelSimpleNN = simple_nn()\n",
    "modelResNet = MLPResNet(784, hidden_dim=100)\n",
    "optSGD = mpt.optim.SGD\n",
    "optAdam = mpt.optim.Adam\n",
    "\n",
    "\n",
    "# train 2*2, and visualize\n",
    "modelList = [modelSimpleNN, modelResNet]\n",
    "optList = [optSGD, optAdam]\n",
    "\n",
    "train_accList = []\n",
    "train_lossList = []\n",
    "\n",
    "test_accList = []\n",
    "test_lossList = []\n",
    "timeList = []\n",
    "for (model, opt) in [(model, opt) for model in modelList for opt in optList]:\n",
    "    [train_dataset, train_dataloader, test_dataset, test_dataloader] = loadData()\n",
    "    thisOpt = opt(model[0].parameters(), lr=0.1, weight_decay=0.001)\n",
    "    print(model[1], opt)\n",
    "    print(\"Err | Loss\")\n",
    "    tic()\n",
    "    for _ in range(10):\n",
    "        train_acc, train_loss = epoch(\n",
    "            train_dataloader, model=model[0], opt=thisOpt)\n",
    "    print(\"TEST\")\n",
    "    test_acc, test_loss = epoch(test_dataloader, model=model[0])\n",
    "    t = toc()\n",
    "\n",
    "    timeList.append(t)\n",
    "    train_lossList.append(train_loss)\n",
    "    test_lossList.append(test_loss)\n",
    "    train_accList.append(train_acc)\n",
    "    test_accList.append(test_acc)\n",
    "    print(\"time: \", t)\n"
   ]
  },
  {
   "cell_type": "code",
   "execution_count": 32,
   "metadata": {},
   "outputs": [
    {
     "name": "stdout",
     "output_type": "stream",
     "text": [
      "train_accList:\t [0.07673333333333333, 0.1803, 0.007533333333333334, 0.2472]\n",
      "train_lossList:\t [0.2746484576165676, 1.1491027573744457, 0.030090059110273917, 0.7930528383950393]\n",
      "test_accList:\t [0.0785, 0.1688, 0.026, 0.2113]\n",
      "test_lossList:\t [0.2763303181529045, 0.6319184058904648, 0.09090447120834141, 0.6953959873318672]\n",
      "timeList:\t [datetime.timedelta(seconds=72, microseconds=62722), datetime.timedelta(seconds=119, microseconds=496490), datetime.timedelta(seconds=675, microseconds=112961), datetime.timedelta(seconds=693, microseconds=241430)]\n"
     ]
    }
   ],
   "source": [
    "print(\"train_accList:\\t\",train_accList)\n",
    "print(\"train_lossList:\\t\",train_lossList)\n",
    "print(\"test_accList:\\t\",test_accList)\n",
    "print(\"test_lossList:\\t\",test_lossList)\n",
    "print(\"timeList:\\t\",timeList)"
   ]
  },
  {
   "cell_type": "code",
   "execution_count": 12,
   "metadata": {},
   "outputs": [
    {
     "ename": "NameError",
     "evalue": "name 'simple_nn' is not defined",
     "output_type": "error",
     "traceback": [
      "\u001b[0;31m---------------------------------------------------------------------------\u001b[0m",
      "\u001b[0;31mNameError\u001b[0m                                 Traceback (most recent call last)",
      "Cell \u001b[0;32mIn[12], line 4\u001b[0m\n\u001b[1;32m      1\u001b[0m \u001b[39m# use different learning rate\u001b[39;00m\n\u001b[1;32m      2\u001b[0m train_acc, train_loss \u001b[39m=\u001b[39m \u001b[39mNone\u001b[39;00m, \u001b[39mNone\u001b[39;00m\n\u001b[0;32m----> 4\u001b[0m modelSimpleNN \u001b[39m=\u001b[39m simple_nn()\n\u001b[1;32m      5\u001b[0m modelResNet \u001b[39m=\u001b[39m MLPResNet(\u001b[39m784\u001b[39m, hidden_dim\u001b[39m=\u001b[39m\u001b[39m100\u001b[39m)\n\u001b[1;32m      6\u001b[0m optSGD \u001b[39m=\u001b[39m mpt\u001b[39m.\u001b[39moptim\u001b[39m.\u001b[39mSGD\n",
      "\u001b[0;31mNameError\u001b[0m: name 'simple_nn' is not defined"
     ]
    }
   ],
   "source": [
    "# use different learning rate\n",
    "train_acc, train_loss = None, None\n",
    "\n",
    "modelSimpleNN = simple_nn()\n",
    "modelResNet = MLPResNet(784, hidden_dim=100)\n",
    "optSGD = mpt.optim.SGD\n",
    "optAdam = mpt.optim.Adam\n",
    "\n",
    "\n",
    "# train 2*2, and visualize\n",
    "modelList = [modelSimpleNN, modelResNet]\n",
    "optList = [optSGD, optAdam]\n",
    "\n",
    "train_accList = []\n",
    "train_lossList = []\n",
    "\n",
    "test_accList = []\n",
    "test_lossList = []\n",
    "timeList = []\n",
    "for (model, opt) in [(model, opt) for model in modelList for opt in optList]:\n",
    "    [train_dataset, train_dataloader, test_dataset, test_dataloader] = loadData()\n",
    "    thisOpt = opt(model[0].parameters(), lr=0.001, weight_decay=0.001)\n",
    "    print(model[1], opt)\n",
    "    print(\"Err | Loss\")\n",
    "    tic()\n",
    "    for _ in range(10):\n",
    "        train_acc, train_loss = epoch(\n",
    "            train_dataloader, model=model[0], opt=thisOpt)\n",
    "    print(\"TEST\")\n",
    "    test_acc, test_loss = epoch(test_dataloader, model=model[0])\n",
    "    t = toc()\n",
    "\n",
    "    timeList.append(t)\n",
    "    train_lossList.append(train_loss)\n",
    "    test_lossList.append(test_loss)\n",
    "    train_accList.append(train_acc)\n",
    "    test_accList.append(test_acc)\n",
    "    print(\"time: \", t, \" seconds\")\n"
   ]
  },
  {
   "cell_type": "code",
   "execution_count": 34,
   "metadata": {},
   "outputs": [
    {
     "name": "stdout",
     "output_type": "stream",
     "text": [
      "train_accList =  [0.15671666666666667, 0.0758, 0.11516666666666667, 0.014366666666666666]\n",
      "train_lossList =  [0.5967742698391278, 0.27257578710714975, 0.3863513117780288, 0.045549460020071514]\n",
      "test_accList =  [0.1456, 0.0763, 0.0895, 0.0297]\n",
      "test_lossList =  [0.5570591828227043, 0.27045953899621966, 0.2983111513406038, 0.09459613444283604]\n",
      "timeList =  [datetime.timedelta(seconds=64, microseconds=939863), datetime.timedelta(seconds=118, microseconds=871126), datetime.timedelta(seconds=711, microseconds=642097), datetime.timedelta(seconds=840, microseconds=721068)]\n"
     ]
    }
   ],
   "source": [
    "print(\"train_accList = \",train_accList)\n",
    "print(\"train_lossList = \",train_lossList)\n",
    "print(\"test_accList = \",test_accList)\n",
    "print(\"test_lossList = \",test_lossList)\n",
    "print(\"timeList = \",timeList)"
   ]
  },
  {
   "cell_type": "code",
   "execution_count": null,
   "metadata": {},
   "outputs": [],
   "source": []
  },
  {
   "cell_type": "code",
   "execution_count": null,
   "metadata": {},
   "outputs": [],
   "source": []
  },
  {
   "cell_type": "code",
   "execution_count": null,
   "metadata": {},
   "outputs": [],
   "source": []
  },
  {
   "cell_type": "code",
   "execution_count": 3,
   "metadata": {},
   "outputs": [
    {
     "name": "stdout",
     "output_type": "stream",
     "text": [
      "Epoch: 9 Test set: Average loss: 0.0014, Accuracy: 9754/10000 (98%)\n",
      "lossListPytorch [<built-in method item of Tensor object at 0x7f5f294b9170>, <built-in method item of Tensor object at 0x7f5f294253a0>, <built-in method item of Tensor object at 0x7f5f276bff60>, <built-in method item of Tensor object at 0x7f5f276bf0b0>, <built-in method item of Tensor object at 0x7f5f276bff10>, <built-in method item of Tensor object at 0x7f5f27636cf0>, <built-in method item of Tensor object at 0x7f5f276bf740>, <built-in method item of Tensor object at 0x7f5f812e6b60>, <built-in method item of Tensor object at 0x7f5f276be340>, <built-in method item of Tensor object at 0x7f5f276be7a0>]\n"
     ]
    }
   ],
   "source": [
    "import torch\n",
    "import torch.nn as nn\n",
    "import torch.optim as optim\n",
    "from torchvision import datasets, transforms\n",
    "import torch.nn as nn\n",
    "\n",
    "# 定义残差块\n",
    "\n",
    "\n",
    "class ResidualBlock(nn.Module):\n",
    "    def __init__(self, dim, hidden_dim, norm=nn.BatchNorm1d, drop_prob=0.1):\n",
    "        super(ResidualBlock, self).__init__()\n",
    "        self.net = nn.Sequential(\n",
    "            nn.Linear(dim, hidden_dim),\n",
    "            norm(hidden_dim),\n",
    "            nn.ReLU(),\n",
    "            nn.Dropout(drop_prob),\n",
    "            nn.Linear(hidden_dim, dim),\n",
    "            norm(dim),\n",
    "            nn.ReLU()\n",
    "        )\n",
    "\n",
    "    def forward(self, x):\n",
    "        return self.net(x) + x\n",
    "\n",
    "# 定义MLPResNet模型\n",
    "\n",
    "\n",
    "class MLPResNet(nn.Module):\n",
    "    def __init__(self, dim, hidden_dim=100, num_blocks=3, num_classes=10, norm=nn.BatchNorm1d, drop_prob=0.1):\n",
    "        super(MLPResNet, self).__init__()\n",
    "        # 定义模型结构\n",
    "        self.net = nn.Sequential(\n",
    "            nn.Linear(dim, hidden_dim),\n",
    "            nn.ReLU()\n",
    "        )\n",
    "        for _ in range(num_blocks):\n",
    "            self.net.add_module(\n",
    "                'residual_block{}'.format(_),\n",
    "                ResidualBlock(hidden_dim, hidden_dim // 2, norm, drop_prob)\n",
    "            )\n",
    "        self.net.add_module(\n",
    "            'fc',\n",
    "            nn.Linear(hidden_dim, num_classes)\n",
    "        )\n",
    "        self.net.add_module(\n",
    "            'log_softmax',\n",
    "            nn.LogSoftmax(dim=1)\n",
    "        )\n",
    "\n",
    "    def forward(self, x):\n",
    "        x = x.view(x.size(0), -1)\n",
    "        x = self.net(x)\n",
    "        return x\n",
    "\n",
    "\n",
    "# 定义超参数\n",
    "batch_size = 64\n",
    "learning_rate = 0.1\n",
    "num_epochs = 10\n",
    "\n",
    "# 加载MNIST数据集\n",
    "train_loader = torch.utils.data.DataLoader(\n",
    "    datasets.MNIST('data', train=True, download=True,\n",
    "                   transform=transforms.ToTensor()),\n",
    "    batch_size=batch_size, shuffle=True)\n",
    "\n",
    "test_loader = torch.utils.data.DataLoader(\n",
    "    datasets.MNIST('data', train=False, transform=transforms.ToTensor()),\n",
    "    batch_size=batch_size, shuffle=True)\n",
    "\n",
    "# 初始化模型并定义优化器和损失函数\n",
    "model = MLPResNet(dim=784)\n",
    "device = torch.device(\"cpu\")\n",
    "model.to(device)\n",
    "\n",
    "optimizer = optim.SGD(model.parameters(), lr=learning_rate)\n",
    "criterion = nn.CrossEntropyLoss()\n",
    "\n",
    "lossListPytorch = []\n",
    "\n",
    "# 训练模型\n",
    "for epoch in range(num_epochs):\n",
    "    for batch_idx, (data, target) in enumerate(train_loader):\n",
    "        # 将数据加载到CPU\n",
    "        data, target = data.to(device), target.to(device)\n",
    "\n",
    "        # 前向传播\n",
    "        output = model(data.view(-1, 784))\n",
    "\n",
    "        # 计算损失\n",
    "        loss = criterion(output, target)\n",
    "\n",
    "        # 反向传播\n",
    "        optimizer.zero_grad()\n",
    "        loss.backward()\n",
    "        optimizer.step()\n",
    "    lossListPytorch.append(loss.item)\n",
    "\n",
    "# 在测试集上计算模型准确率\n",
    "test_loss = 0\n",
    "correct = 0\n",
    "with torch.no_grad():\n",
    "    for data, target in test_loader:\n",
    "        # 将数据加载到CPU\n",
    "        data, target = data.to(device), target.to(device)\n",
    "\n",
    "        # 前向传播\n",
    "        output = model(data.view(-1, 784))\n",
    "\n",
    "        # 计算损失\n",
    "        test_loss += criterion(output, target).item()\n",
    "\n",
    "        # 统计预测正确的样本数量\n",
    "        pred = output.argmax(dim=1, keepdim=True)\n",
    "        correct += pred.eq(target.view_as(pred)).sum().item()\n",
    "\n",
    "# 打印测试集上的结果\n",
    "test_loss /= len(test_loader.dataset)\n",
    "print('Epoch: {} Test set: Average loss: {:.4f}, Accuracy: {}/{} ({:.0f}%)'.format(\n",
    "    epoch, test_loss, correct, len(test_loader.dataset),\n",
    "    100. * correct / len(test_loader.dataset)))\n",
    "\n",
    "print(\"lossListPytorch\", lossListPytorch)\n"
   ]
  },
  {
   "cell_type": "code",
   "execution_count": 11,
   "metadata": {},
   "outputs": [
    {
     "name": "stdout",
     "output_type": "stream",
     "text": [
      "lossListPytorch=[\n",
      "0.16931498050689697 , 0.2504355311393738 , 0.161612406373024 , 0.06755511462688446 , 0.24254870414733887 , 0.07409413158893585 , 0.02175862342119217 , 0.0926036387681961 , 0.0052053420804440975 , 0.06018472835421562 , ]\n"
     ]
    }
   ],
   "source": [
    "print(\"lossListPytorch=[\")\n",
    "for loss in lossListPytorch:\n",
    "    print(loss(),\", \",end=\"\")\n",
    "print(\"]\")"
   ]
  },
  {
   "cell_type": "code",
   "execution_count": null,
   "metadata": {},
   "outputs": [],
   "source": []
  }
 ],
 "metadata": {
  "kernelspec": {
   "display_name": "Python 3",
   "language": "python",
   "name": "python3"
  },
  "language_info": {
   "codemirror_mode": {
    "name": "ipython",
    "version": 3
   },
   "file_extension": ".py",
   "mimetype": "text/x-python",
   "name": "python",
   "nbconvert_exporter": "python",
   "pygments_lexer": "ipython3",
   "version": "3.10.6"
  },
  "orig_nbformat": 4,
  "vscode": {
   "interpreter": {
    "hash": "4e1d9a8909477db77738c33245c29c7265277ef753467dede8cf3f814cde494e"
   }
  }
 },
 "nbformat": 4,
 "nbformat_minor": 2
}
